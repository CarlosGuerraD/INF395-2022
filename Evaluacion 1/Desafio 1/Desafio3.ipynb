{
 "cells": [
  {
   "cell_type": "code",
   "execution_count": 2,
   "id": "02779307-6e9e-4d43-aa22-62d3fadb5dbb",
   "metadata": {},
   "outputs": [],
   "source": [
    "import os\n",
    "import librosa\n",
    "import librosa.display\n",
    "import pandas as pd\n",
    "\n",
    "import tensorflow as tf\n",
    "import keras\n",
    "import matplotlib as plt\n",
    "import sklearn\n"
   ]
  },
  {
   "cell_type": "code",
   "execution_count": 3,
   "id": "b41dd519-296a-464e-a389-8192ef96ab73",
   "metadata": {},
   "outputs": [],
   "source": [
    "import numpy as np\n",
    "import pickle"
   ]
  },
  {
   "cell_type": "code",
   "execution_count": 4,
   "id": "e93bb9fe-a5d1-40dc-b288-363fd995a735",
   "metadata": {},
   "outputs": [
    {
     "name": "stdout",
     "output_type": "stream",
     "text": [
      "No. of .wav files in audio folder =  600\n"
     ]
    }
   ],
   "source": [
    "audio_fpath = \"../desafio/data/Test/\"\n",
    "audio_clips = os.listdir(audio_fpath)\n",
    "print(\"No. of .wav files in audio folder = \",len(audio_clips))"
   ]
  },
  {
   "cell_type": "code",
   "execution_count": 6,
   "id": "771c130d-8c0d-4d38-98ea-7616a175add4",
   "metadata": {},
   "outputs": [],
   "source": [
    "X_test = []\n",
    "for clip in audio_clips:\n",
    "    x , sr = librosa.load(f\"../desafio/data/Test/{clip}\")\n",
    "    X = librosa.stft(x)\n",
    "    Xdb = librosa.amplitude_to_db(abs(X))\n",
    "    X_test.append(Xdb)"
   ]
  },
  {
   "cell_type": "code",
   "execution_count": 14,
   "id": "bda28897-5427-4ed6-a647-af67ccc01b8e",
   "metadata": {},
   "outputs": [
    {
     "data": {
      "text/plain": [
       "(1025, 515)"
      ]
     },
     "execution_count": 14,
     "metadata": {},
     "output_type": "execute_result"
    }
   ],
   "source": [
    "maxshape = 0\n",
    "for s in X_test:\n",
    "    if s.shape[1] >= maxshape:\n",
    "        maxshape = s.shape[1]\n",
    "X_test[0].shape[0],maxshape"
   ]
  },
  {
   "cell_type": "code",
   "execution_count": 21,
   "id": "e733ab8e-f84d-46f5-a5d0-21c85a20e78f",
   "metadata": {},
   "outputs": [],
   "source": [
    "datareshape = []\n",
    "for item in X_test:\n",
    "    i,j = item.shape\n",
    "    fill_left = np.floor((maxshape-j)/2)\n",
    "    fill_right = np.ceil((maxshape-j)/2)\n",
    "    datareshape.append(np.pad(item, ((0,0),(int(fill_left)+11,int(fill_right)+11)), mode='constant', constant_values=np.min(item)))"
   ]
  },
  {
   "cell_type": "code",
   "execution_count": 22,
   "id": "edc647bc-908b-4576-b0d6-f657dbcad0d1",
   "metadata": {},
   "outputs": [
    {
     "data": {
      "text/plain": [
       "(600, 1025, 537)"
      ]
     },
     "execution_count": 22,
     "metadata": {},
     "output_type": "execute_result"
    }
   ],
   "source": [
    "nptest = np.asarray(datareshape)\n",
    "nptest.shape"
   ]
  },
  {
   "cell_type": "code",
   "execution_count": 24,
   "id": "ab78f884-96e4-4115-817e-84359ecd28e4",
   "metadata": {},
   "outputs": [],
   "source": [
    "gender_model = keras.models.load_model(\"../Redes/desafio/models/Gender1\")\n",
    "\n",
    "country_model = keras.models.load_model(\"../Redes/desafio/models/Country1\")"
   ]
  },
  {
   "cell_type": "code",
   "execution_count": 26,
   "id": "eb076d08-f033-4ede-8d5b-3593230e5968",
   "metadata": {},
   "outputs": [
    {
     "name": "stdout",
     "output_type": "stream",
     "text": [
      "19/19 [==============================] - 3s 136ms/step\n"
     ]
    }
   ],
   "source": [
    "gen = gender_model.predict(nptest)"
   ]
  },
  {
   "cell_type": "code",
   "execution_count": 30,
   "id": "1172b4ac-5307-4735-81a8-a942fa8a9acf",
   "metadata": {},
   "outputs": [],
   "source": [
    "gen = gen.round()"
   ]
  },
  {
   "cell_type": "code",
   "execution_count": 31,
   "id": "0dffdb4a-8968-4f99-829f-a3abd5f7470e",
   "metadata": {},
   "outputs": [
    {
     "name": "stdout",
     "output_type": "stream",
     "text": [
      "19/19 [==============================] - 1s 22ms/step\n"
     ]
    }
   ],
   "source": [
    "count = country_model.predict(nptest)"
   ]
  },
  {
   "cell_type": "code",
   "execution_count": 60,
   "id": "7f412475-704e-452e-951c-e900abe4134c",
   "metadata": {},
   "outputs": [],
   "source": [
    "df = []\n",
    "for i in range(len(gen)):\n",
    "    idx = np.argmax(count[i])+2\n",
    "    df.append([f\"{str(int(gen[i]))} {idx}\"])"
   ]
  },
  {
   "cell_type": "code",
   "execution_count": 65,
   "id": "37551684-bab3-4b1a-aca6-3ecd1d863a7c",
   "metadata": {},
   "outputs": [],
   "source": [
    "df = pd.DataFrame(df,columns=[\"Expected\"])"
   ]
  },
  {
   "cell_type": "code",
   "execution_count": 64,
   "id": "b021bbd4-da07-47eb-88f7-61f11acc17d6",
   "metadata": {},
   "outputs": [],
   "source": [
    "names = pd.read_csv('../desafio/data/Test.csv')"
   ]
  },
  {
   "cell_type": "code",
   "execution_count": 69,
   "id": "a7c3b0bf-1ab4-447e-9d6c-3f07f1495800",
   "metadata": {},
   "outputs": [],
   "source": [
    "final = pd.concat([names,df],axis=1)"
   ]
  },
  {
   "cell_type": "code",
   "execution_count": 74,
   "id": "698fc2b0-adc5-4028-943e-a08da12f0022",
   "metadata": {},
   "outputs": [],
   "source": [
    "final.to_csv(\"Test_submit.csv\",index=False)"
   ]
  },
  {
   "cell_type": "code",
   "execution_count": 73,
   "id": "e505a055-e1d4-47a6-9415-bcb6f797a5af",
   "metadata": {},
   "outputs": [
    {
     "data": {
      "text/plain": [
       "Index(['Id', 'Expected'], dtype='object')"
      ]
     },
     "execution_count": 73,
     "metadata": {},
     "output_type": "execute_result"
    }
   ],
   "source": []
  },
  {
   "cell_type": "code",
   "execution_count": null,
   "id": "4cc4028f-0532-4d95-bd6b-c00b2be67754",
   "metadata": {},
   "outputs": [],
   "source": []
  }
 ],
 "metadata": {
  "kernelspec": {
   "display_name": "Python 3",
   "language": "python",
   "name": "python3"
  },
  "language_info": {
   "codemirror_mode": {
    "name": "ipython",
    "version": 3
   },
   "file_extension": ".py",
   "mimetype": "text/x-python",
   "name": "python",
   "nbconvert_exporter": "python",
   "pygments_lexer": "ipython3",
   "version": "3.10.4"
  }
 },
 "nbformat": 4,
 "nbformat_minor": 5
}
