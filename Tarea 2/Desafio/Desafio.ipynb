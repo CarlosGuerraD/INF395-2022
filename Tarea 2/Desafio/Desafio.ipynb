{
 "cells": [
  {
   "cell_type": "markdown",
   "id": "c6a7f59d-dff7-4327-8dfe-caec2c25c36d",
   "metadata": {},
   "source": [
    "## Librerías"
   ]
  },
  {
   "cell_type": "code",
   "execution_count": 1,
   "id": "e82b54f7-bacf-41f1-b077-55e2e5f18764",
   "metadata": {},
   "outputs": [],
   "source": [
    "import numpy as np\n",
    "import pandas as pd\n",
    "import pickle\n",
    "import tensorflow as tf\n",
    "import keras\n",
    "import PIL\n",
    "from PIL import Image, ImageShow\n",
    "from sklearn import preprocessing\n",
    "\n",
    "import time\n",
    "from IPython.display import clear_output\n",
    "import os"
   ]
  },
  {
   "cell_type": "code",
   "execution_count": 2,
   "id": "6b349632-17d8-4e92-9e19-d352336dc544",
   "metadata": {},
   "outputs": [],
   "source": [
    "from PIL import GifImagePlugin\n",
    "GifImagePlugin.LOADING_STRATEGY = GifImagePlugin.LoadingStrategy.RGB_ALWAYS\n",
    "\n",
    "PIL.ImageShow.register(PIL.ImageShow.IPythonViewer,-1)"
   ]
  },
  {
   "cell_type": "markdown",
   "id": "ba84254e-70d8-4714-baef-8fc1cc263152",
   "metadata": {},
   "source": [
    "## Lectura de datos"
   ]
  },
  {
   "cell_type": "code",
   "execution_count": 3,
   "id": "273f5f23-022f-4fa0-8d41-491828ab1d1f",
   "metadata": {
    "tags": []
   },
   "outputs": [],
   "source": [
    "labels = np.load(\"dict.npy\", allow_pickle = True).tolist()\n",
    "labels_inv = dict((v, k) for k, v in labels.items())"
   ]
  },
  {
   "cell_type": "code",
   "execution_count": 4,
   "id": "b45e0044-27f4-4865-b4a4-62a99c6d45c0",
   "metadata": {},
   "outputs": [],
   "source": [
    "img_path = \"./Train/\"\n",
    "img_names = os.listdir(img_path)\n",
    "train_labels = pd.read_csv(\"train.csv\").sort_values(by=['Id'])"
   ]
  },
  {
   "cell_type": "code",
   "execution_count": 5,
   "id": "eb7611bd-5bdb-4583-a350-a631473f0002",
   "metadata": {},
   "outputs": [],
   "source": [
    "train_labels[\"Familia\"] = train_labels[\"Expected\"].apply(lambda x : labels[x[0]])\n",
    "train_labels[\"Animal\"] = train_labels[\"Expected\"].apply(lambda x : labels[x[-2:].strip()])"
   ]
  },
  {
   "cell_type": "code",
   "execution_count": 6,
   "id": "1e01fbbc-6f5b-4e70-89c8-b6644385ba4e",
   "metadata": {},
   "outputs": [],
   "source": [
    "df = pd.get_dummies(train_labels, columns = [\"Familia\", \"Animal\"])\n",
    "df = df.reset_index()\n",
    "df.columns = list(map(lambda x : x.replace(\"Familia_\", \"\").replace(\"Animal_\", \"\"), df.columns))\n",
    "df = df.drop(['index', 'Id', 'Unnamed: 0', 'Expected', 'Anfibio', 'Artropodo', 'Ave', 'Mamifero', 'Reptil'], axis = 1)"
   ]
  },
  {
   "cell_type": "code",
   "execution_count": null,
   "id": "883ddbc9-3695-4d52-8208-7423a334ba2f",
   "metadata": {
    "tags": []
   },
   "outputs": [],
   "source": [
    "img_size=(224,224)\n",
    "images = list()\n",
    "for img in img_names:\n",
    "    image = Image.open(img_path + img).convert(\"RGB\")\n",
    "    images.append(np.asarray(image.resize(img_size)))\n",
    "images = np.array(images)\n",
    "images.shape"
   ]
  },
  {
   "cell_type": "markdown",
   "id": "eb343103-f811-4f6a-b28f-9cb6d2c7b8dc",
   "metadata": {},
   "source": [
    "## Data Augmentation"
   ]
  },
  {
   "cell_type": "code",
   "execution_count": 7,
   "id": "1c66df47-e190-43ee-8b76-1bfbdbc06254",
   "metadata": {},
   "outputs": [],
   "source": [
    "file = open(\"data224.obj\", \"rb\")\n",
    "images = pickle.load(file)\n",
    "file.close()"
   ]
  },
  {
   "cell_type": "code",
   "execution_count": 8,
   "id": "e90be549-1561-4192-99f7-d880385bff37",
   "metadata": {},
   "outputs": [],
   "source": [
    "animales = dict()\n",
    "for col in df.columns:\n",
    "    animales[col] = images[df[df[col]==1].index]"
   ]
  },
  {
   "cell_type": "code",
   "execution_count": 9,
   "id": "ccc519d4-250d-4b09-bd24-686e56376a4c",
   "metadata": {},
   "outputs": [],
   "source": [
    "augment = keras.Sequential([\n",
    "    tf.keras.layers.Input((224,224,3)),\n",
    "    tf.keras.layers.RandomFlip(mode = \"horizontal\"),\n",
    "    tf.keras.layers.RandomRotation(.1),\n",
    "    tf.keras.layers.RandomZoom((-0.2, 0.2)),\n",
    "    tf.keras.layers.RandomTranslation((-0.05, 0.05),(-0.05, 0.05)),\n",
    "    tf.keras.layers.RandomContrast((.1,.3)),\n",
    "    tf.keras.layers.GaussianNoise(5)\n",
    "])"
   ]
  },
  {
   "cell_type": "code",
   "execution_count": 174,
   "id": "ff09f8c9-7061-4a02-b2ae-7a1e6a6736c8",
   "metadata": {},
   "outputs": [],
   "source": [
    "for col in df.columns[:]:\n",
    "    try:\n",
    "        os.remove(f\"./Augmented/{col}/XY_{col}.obj\")\n",
    "        os.remove(f\"./Augmented/{col}/aug_{col}.obj\")\n",
    "    except:\n",
    "        continue"
   ]
  },
  {
   "cell_type": "code",
   "execution_count": 175,
   "id": "94a7d0a3-d832-4a68-a17a-3d9f923fbf61",
   "metadata": {},
   "outputs": [
    {
     "name": "stdout",
     "output_type": "stream",
     "text": [
      "Viuda negra, 12\n",
      "(1246, 224, 224, 3)\n"
     ]
    }
   ],
   "source": [
    "for col in df.columns:\n",
    "    data = animales[col]\n",
    "    i = 0\n",
    "    while len(data) < 1200:\n",
    "        aug = augment(animales[col], training = True)\n",
    "        data = np.append(data, aug, axis = 0)\n",
    "        print(f\"{col}, {i}\")\n",
    "        print(data.shape)\n",
    "        clear_output(wait = True)\n",
    "        i += 1\n",
    "    file = open(f\"./Augmented/{col}/aug_{col}.obj\", \"wb\")\n",
    "    pickle.dump(data, file)\n",
    "    file.close()\n",
    "    del data"
   ]
  },
  {
   "cell_type": "code",
   "execution_count": 177,
   "id": "bc170051-e30f-4710-97f3-2f05b8a8e79e",
   "metadata": {},
   "outputs": [
    {
     "name": "stdout",
     "output_type": "stream",
     "text": [
      "Viuda negra\n",
      "(1246, 224, 224, 3) (3433, 224, 224, 3)\n"
     ]
    }
   ],
   "source": [
    "for col in df.columns:\n",
    "    print(col)\n",
    "    file = open(f\"./Augmented/{col}/aug_{col}.obj\", \"rb\")\n",
    "    temp_1 = pickle.load(file)\n",
    "    file.close()\n",
    "    temp_2 = np.empty((1, 224, 224, 3))\n",
    "    for _ in df.columns:\n",
    "        if not _ == col:\n",
    "            temp_2 = np.concatenate((temp_2, animales[_]), axis = 0)\n",
    "    print(temp_1.shape, temp_2.shape)\n",
    "    Y = np.concatenate((np.ones(temp_1.shape[0]), np.zeros(temp_2.shape[0])), axis=0)\n",
    "    X = np.concatenate((temp_1, temp_2), axis=0)\n",
    "    file = open(f\"./Augmented/{col}/XY_{col}.obj\", \"wb\")\n",
    "    pickle.dump((X,Y), file)\n",
    "    file.close()\n",
    "    del temp_1, temp_2\n",
    "    clear_output(wait = True)"
   ]
  },
  {
   "cell_type": "markdown",
   "id": "defb779d-159d-4e8e-8f9a-e6dc2f0dd189",
   "metadata": {
    "tags": []
   },
   "source": [
    "## Entrenamiento"
   ]
  },
  {
   "cell_type": "code",
   "execution_count": 4,
   "id": "05a1dcc6-0363-43f8-8ce7-341ffa5766f0",
   "metadata": {},
   "outputs": [],
   "source": [
    "def create_model(base_model):\n",
    "    inputs = keras.layers.Input((224,224,3))\n",
    "    x = keras.layers.RandomFlip(mode = \"horizontal\")(inputs)\n",
    "    x = keras.layers.RandomRotation(.05)(x)\n",
    "    x = tf.keras.layers.RandomZoom((-0.2, 0))(x)\n",
    "    x = keras.layers.Rescaling(scale = 1 / 127.5, offset = -1)(inputs)\n",
    "    x = base_model(x, training = False)\n",
    "    x = keras.layers.GlobalAveragePooling2D()(x)\n",
    "    x = keras.layers.Dense(86)(x)\n",
    "    outputs = keras.layers.Dense(1,activation = \"sigmoid\")(x)\n",
    "    model = keras.Model(inputs, outputs)\n",
    "    return model"
   ]
  },
  {
   "cell_type": "code",
   "execution_count": 5,
   "id": "d2b03b17-3264-41bf-836d-31148f6d86ea",
   "metadata": {},
   "outputs": [
    {
     "name": "stdout",
     "output_type": "stream",
     "text": [
      "Model: \"model\"\n",
      "_________________________________________________________________\n",
      " Layer (type)                Output Shape              Param #   \n",
      "=================================================================\n",
      " input_3 (InputLayer)        [(None, 224, 224, 3)]     0         \n",
      "                                                                 \n",
      " rescaling (Rescaling)       (None, 224, 224, 3)       0         \n",
      "                                                                 \n",
      " inception_v3 (Functional)   (None, 5, 5, 2048)        21802784  \n",
      "                                                                 \n",
      " global_average_pooling2d (G  (None, 2048)             0         \n",
      " lobalAveragePooling2D)                                          \n",
      "                                                                 \n",
      " dense (Dense)               (None, 86)                176214    \n",
      "                                                                 \n",
      " dense_1 (Dense)             (None, 1)                 87        \n",
      "                                                                 \n",
      "=================================================================\n",
      "Total params: 21,979,085\n",
      "Trainable params: 176,301\n",
      "Non-trainable params: 21,802,784\n",
      "_________________________________________________________________\n"
     ]
    }
   ],
   "source": [
    "base_model = keras.applications.InceptionV3(input_shape = (224,224,3), weights = 'imagenet', include_top = False)\n",
    "base_model.trainable = False\n",
    "model = create_model(base_model)\n",
    "model.summary()"
   ]
  },
  {
   "cell_type": "code",
   "execution_count": 29,
   "id": "9bea41a5-d1e6-4c84-9c4e-d167f6d347c1",
   "metadata": {},
   "outputs": [],
   "source": [
    "epoch = 50\n",
    "callback = keras.callbacks.EarlyStopping(monitor='val_loss',\n",
    "                                            patience=5,\n",
    "                                            restore_best_weights=True)"
   ]
  },
  {
   "cell_type": "code",
   "execution_count": 34,
   "id": "8f78514b-428f-4462-b5c2-8b578f2811bb",
   "metadata": {},
   "outputs": [
    {
     "name": "stdout",
     "output_type": "stream",
     "text": [
      "23/32\n",
      "Epoch 1/50\n",
      "117/117 [==============================] - 125s 1s/step - loss: 0.0302 - binary_accuracy: 0.9933 - val_loss: 4.0497e-05 - val_binary_accuracy: 1.0000\n",
      "Epoch 2/50\n",
      "117/117 [==============================] - 118s 1s/step - loss: 0.0180 - binary_accuracy: 0.9987 - val_loss: 2.0128 - val_binary_accuracy: 0.9348\n",
      "Epoch 3/50\n",
      "117/117 [==============================] - 119s 1s/step - loss: 0.0015 - binary_accuracy: 0.9997 - val_loss: 0.0000e+00 - val_binary_accuracy: 1.0000\n",
      "Epoch 4/50\n",
      "117/117 [==============================] - 119s 1s/step - loss: 4.8375e-09 - binary_accuracy: 1.0000 - val_loss: 0.0000e+00 - val_binary_accuracy: 1.0000\n",
      "Epoch 5/50\n",
      "117/117 [==============================] - 119s 1s/step - loss: 4.7635e-09 - binary_accuracy: 1.0000 - val_loss: 0.0000e+00 - val_binary_accuracy: 1.0000\n",
      "Epoch 6/50\n",
      "117/117 [==============================] - 119s 1s/step - loss: 4.6786e-09 - binary_accuracy: 1.0000 - val_loss: 0.0000e+00 - val_binary_accuracy: 1.0000\n",
      "Epoch 7/50\n",
      "117/117 [==============================] - 119s 1s/step - loss: 4.5818e-09 - binary_accuracy: 1.0000 - val_loss: 0.0000e+00 - val_binary_accuracy: 1.0000\n",
      "Epoch 8/50\n",
      "117/117 [==============================] - 120s 1s/step - loss: 4.4766e-09 - binary_accuracy: 1.0000 - val_loss: 0.0000e+00 - val_binary_accuracy: 1.0000\n"
     ]
    },
    {
     "name": "stderr",
     "output_type": "stream",
     "text": [
      "WARNING:absl:Found untraced functions such as _jit_compiled_convolution_op, _jit_compiled_convolution_op, _jit_compiled_convolution_op, _jit_compiled_convolution_op, _jit_compiled_convolution_op while saving (showing 5 of 94). These functions will not be directly callable after loading.\n"
     ]
    },
    {
     "name": "stdout",
     "output_type": "stream",
     "text": [
      "INFO:tensorflow:Assets written to: ./Augmented/Viuda negra/model_Viuda negra\\assets\n"
     ]
    },
    {
     "name": "stderr",
     "output_type": "stream",
     "text": [
      "INFO:tensorflow:Assets written to: ./Augmented/Viuda negra/model_Viuda negra\\assets\n"
     ]
    }
   ],
   "source": [
    "i = 0\n",
    "for col in df.columns[8:]:\n",
    "    print(f\"{i}/32\")\n",
    "    file = open(f\"./Augmented/{col}/XY_{col}.obj\", \"rb\")\n",
    "    X,Y = pickle.load(file)\n",
    "    file.close()\n",
    "    base_model = keras.applications.InceptionV3(input_shape = (224,224,3), weights = 'imagenet', include_top = False)\n",
    "    base_model.trainable = False\n",
    "    model = create_model(base_model)\n",
    "    model.compile(optimizer = keras.optimizers.Adam(0.01), \n",
    "                  loss = keras.losses.BinaryCrossentropy(), \n",
    "                  metrics = [\"binary_accuracy\"]\n",
    "                 )\n",
    "    model.fit(X, Y, epochs = epoch, callbacks = callback, validation_split = 0.2)\n",
    "    model.save(f\"./Augmented/{col}/model_{col}\")\n",
    "    model.save_weights(f\"./Augmented/{col}/model_{col}_weights\")\n",
    "    #base_model.trainable = True\n",
    "    #model.compile(optimizer = keras.optimizers.Adam(1e-7), \n",
    "    #              loss = keras.losses.BinaryCrossentropy(), \n",
    "    #              metrics = [\"binary_accuracy\"]\n",
    "    #             )\n",
    "    #model.fit(X, Y, epochs = epoch, callbacks = callback, validation_split = 0.2)\n",
    "    #model.save(f\"./Augmented/{col}/model_{col}_wtuning\")\n",
    "    #model.save_weights(f\"./Augmented/{col}/model_{col}_wtuning_weights\")\n",
    "    clear_output(wait = True)\n",
    "    i += 1"
   ]
  },
  {
   "cell_type": "markdown",
   "id": "e6d403b7-69fa-49db-99a8-8a67de10cf98",
   "metadata": {},
   "source": [
    "## Predicciones"
   ]
  },
  {
   "cell_type": "code",
   "execution_count": 35,
   "id": "920a6286-0405-4f7d-bb2f-ada5d173988d",
   "metadata": {},
   "outputs": [],
   "source": [
    "test_path = \"./Test/\"\n",
    "test_names = os.listdir(test_path)\n",
    "output = pd.DataFrame(test_names, columns = [\"Id\"])"
   ]
  },
  {
   "cell_type": "code",
   "execution_count": 37,
   "id": "80806e98-be0f-4aee-88ec-bfb2a11572c9",
   "metadata": {},
   "outputs": [
    {
     "data": {
      "text/plain": [
       "(1174, 224, 224, 3)"
      ]
     },
     "execution_count": 37,
     "metadata": {},
     "output_type": "execute_result"
    }
   ],
   "source": [
    "test = list()\n",
    "for img in test_names:\n",
    "    _ = Image.open(test_path + img).convert(\"RGB\")\n",
    "    test.append(np.asarray(_.resize((224,224))))\n",
    "test = np.array(test)\n",
    "test.shape"
   ]
  },
  {
   "cell_type": "code",
   "execution_count": 38,
   "id": "5bf31099-78c8-4d22-b569-001369f11a11",
   "metadata": {},
   "outputs": [
    {
     "name": "stdout",
     "output_type": "stream",
     "text": [
      "Viuda negra\n",
      "37/37 [==============================] - 54s 1s/step\n"
     ]
    }
   ],
   "source": [
    "for col in df.columns:\n",
    "    print(col)\n",
    "    model = keras.models.load_model(f\"./Augmented/{col}/model_{col}\")\n",
    "    pred = model.predict(test)\n",
    "    output[col] = pred\n",
    "    clear_output(wait = True)"
   ]
  },
  {
   "cell_type": "code",
   "execution_count": 64,
   "id": "2aa14fb7-704b-4920-b88b-dbfaff3c566b",
   "metadata": {},
   "outputs": [
    {
     "name": "stdout",
     "output_type": "stream",
     "text": [
      "Buho:47\n",
      "Caballo:25\n",
      "Cabra:22\n",
      "Cacique:35\n",
      "Camaleon:21\n",
      "Cisne:44\n",
      "Cocodrilo:55\n",
      "Conejo:51\n",
      "Cormoran:37\n",
      "Elefante:41\n",
      "Ganso:43\n",
      "Gato:32\n",
      "Iguana:27\n",
      "Lagarto:55\n",
      "Leon:34\n",
      "Lobo:36\n",
      "Lombriz:23\n",
      "Mariposa:42\n",
      "Oso:31\n",
      "Paloma:36\n",
      "Pato:25\n",
      "Pavo:38\n",
      "Perro:39\n",
      "Rana:48\n",
      "Salamandra:23\n",
      "Saltamontes:39\n",
      "Sapo:48\n",
      "Serpiente:30\n",
      "Tarantula:26\n",
      "Tigre:31\n",
      "Tortuga:57\n",
      "Viuda negra:33\n"
     ]
    }
   ],
   "source": [
    "for col in df.columns:\n",
    "    print(f\"{col}:{t[t==col].count()}\")"
   ]
  },
  {
   "cell_type": "code",
   "execution_count": 94,
   "id": "da058987-8fa7-446a-88ca-628f773a02a2",
   "metadata": {},
   "outputs": [],
   "source": [
    "Anfibio = ['5', '6', '7']\n",
    "Artropodo = ['8', '9', '10', '11', '12']\n",
    "Ave = ['13', '14', '15', '16', '17', '18', '19', '20']\n",
    "Mamifero = ['21', '22', '23', '24', '25', '26', '27', '28', '29', '30']\n",
    "Reptil = ['31', '32', '33', '34', '35', '36']\n",
    "clases = ['5', '6', '7', '8', '9', '10', '11', '12', '13', '14', '15', '16', '17', '18', '19', '20', '21', '22', '23', '24', '25', '26', '27', '28', '29', '30', '31', '32', '33', '34', '35', '36']\n",
    "\n",
    "labels_format = dict()\n",
    "for i in clases:\n",
    "    if i in Anfibio:\n",
    "        labels_format[i] = f\"0 {i}\"\n",
    "    elif i in Artropodo:\n",
    "        labels_format[i] = f\"1 {i}\"\n",
    "    elif i in Ave:\n",
    "        labels_format[i] = f\"2 {i}\"\n",
    "    elif i in Mamifero:\n",
    "        labels_format[i] = f\"3 {i}\"\n",
    "    elif i in Reptil:\n",
    "        labels_format[i] = f\"4 {i}\""
   ]
  },
  {
   "cell_type": "code",
   "execution_count": 105,
   "id": "94560f12-3e2a-4fdc-98f3-ce7bb20381ea",
   "metadata": {},
   "outputs": [],
   "source": [
    "submission = pd.DataFrame(output[\"Id\"], columns=[\"Id\"])\n",
    "submission[\"Expected\"] = output.drop(columns = [\"Id\"]).idxmax(axis = 1)\n",
    "submission[\"Expected\"] = list(map(lambda x: labels_format[labels_inv[x]], submission[\"Expected\"]))\n",
    "submission.to_csv(\"Test_submit.csv\", index=False)"
   ]
  },
  {
   "cell_type": "code",
   "execution_count": 106,
   "id": "b0c44c93-25a6-452b-baf5-647dc6af5164",
   "metadata": {},
   "outputs": [
    {
     "data": {
      "text/html": [
       "<div>\n",
       "<style scoped>\n",
       "    .dataframe tbody tr th:only-of-type {\n",
       "        vertical-align: middle;\n",
       "    }\n",
       "\n",
       "    .dataframe tbody tr th {\n",
       "        vertical-align: top;\n",
       "    }\n",
       "\n",
       "    .dataframe thead th {\n",
       "        text-align: right;\n",
       "    }\n",
       "</style>\n",
       "<table border=\"1\" class=\"dataframe\">\n",
       "  <thead>\n",
       "    <tr style=\"text-align: right;\">\n",
       "      <th></th>\n",
       "      <th>Id</th>\n",
       "      <th>Expected</th>\n",
       "    </tr>\n",
       "  </thead>\n",
       "  <tbody>\n",
       "    <tr>\n",
       "      <th>0</th>\n",
       "      <td>image_100.jpg</td>\n",
       "      <td>0 5</td>\n",
       "    </tr>\n",
       "    <tr>\n",
       "      <th>1</th>\n",
       "      <td>image_1001.jpg</td>\n",
       "      <td>1 12</td>\n",
       "    </tr>\n",
       "    <tr>\n",
       "      <th>2</th>\n",
       "      <td>image_1010.jpg</td>\n",
       "      <td>1 12</td>\n",
       "    </tr>\n",
       "    <tr>\n",
       "      <th>3</th>\n",
       "      <td>image_1018.jpg</td>\n",
       "      <td>1 12</td>\n",
       "    </tr>\n",
       "    <tr>\n",
       "      <th>4</th>\n",
       "      <td>image_1020.jpg</td>\n",
       "      <td>1 12</td>\n",
       "    </tr>\n",
       "    <tr>\n",
       "      <th>...</th>\n",
       "      <td>...</td>\n",
       "      <td>...</td>\n",
       "    </tr>\n",
       "    <tr>\n",
       "      <th>1169</th>\n",
       "      <td>image_978.jpg</td>\n",
       "      <td>1 12</td>\n",
       "    </tr>\n",
       "    <tr>\n",
       "      <th>1170</th>\n",
       "      <td>image_99.jpg</td>\n",
       "      <td>0 5</td>\n",
       "    </tr>\n",
       "    <tr>\n",
       "      <th>1171</th>\n",
       "      <td>image_994.jpg</td>\n",
       "      <td>1 12</td>\n",
       "    </tr>\n",
       "    <tr>\n",
       "      <th>1172</th>\n",
       "      <td>image_996.jpg</td>\n",
       "      <td>1 12</td>\n",
       "    </tr>\n",
       "    <tr>\n",
       "      <th>1173</th>\n",
       "      <td>image_999.jpg</td>\n",
       "      <td>1 12</td>\n",
       "    </tr>\n",
       "  </tbody>\n",
       "</table>\n",
       "<p>1174 rows × 2 columns</p>\n",
       "</div>"
      ],
      "text/plain": [
       "                  Id Expected\n",
       "0      image_100.jpg      0 5\n",
       "1     image_1001.jpg     1 12\n",
       "2     image_1010.jpg     1 12\n",
       "3     image_1018.jpg     1 12\n",
       "4     image_1020.jpg     1 12\n",
       "...              ...      ...\n",
       "1169   image_978.jpg     1 12\n",
       "1170    image_99.jpg      0 5\n",
       "1171   image_994.jpg     1 12\n",
       "1172   image_996.jpg     1 12\n",
       "1173   image_999.jpg     1 12\n",
       "\n",
       "[1174 rows x 2 columns]"
      ]
     },
     "execution_count": 106,
     "metadata": {},
     "output_type": "execute_result"
    }
   ],
   "source": [
    "submission"
   ]
  },
  {
   "cell_type": "code",
   "execution_count": null,
   "id": "fe884f8c-26e3-450f-8b08-a1e6469346e4",
   "metadata": {},
   "outputs": [],
   "source": []
  }
 ],
 "metadata": {
  "kernelspec": {
   "display_name": "Python 3",
   "language": "python",
   "name": "python3"
  },
  "language_info": {
   "codemirror_mode": {
    "name": "ipython",
    "version": 3
   },
   "file_extension": ".py",
   "mimetype": "text/x-python",
   "name": "python",
   "nbconvert_exporter": "python",
   "pygments_lexer": "ipython3",
   "version": "3.10.4"
  }
 },
 "nbformat": 4,
 "nbformat_minor": 5
}
