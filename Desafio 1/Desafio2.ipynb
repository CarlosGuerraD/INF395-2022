{
 "cells": [
  {
   "cell_type": "code",
   "execution_count": 1,
   "id": "da48377f-59a7-454f-8ae3-e60defa86e89",
   "metadata": {},
   "outputs": [],
   "source": [
    "import os\n",
    "import pandas as pd\n",
    "\n",
    "import tensorflow as tf\n",
    "import keras"
   ]
  },
  {
   "cell_type": "code",
   "execution_count": 2,
   "id": "76c055bb-36f9-4a57-bdd6-35c4967929c1",
   "metadata": {},
   "outputs": [],
   "source": [
    "import numpy as np\n",
    "import pickle"
   ]
  },
  {
   "cell_type": "code",
   "execution_count": 3,
   "id": "fb0cca6e-0d38-498f-b8ae-d044b0479324",
   "metadata": {},
   "outputs": [],
   "source": [
    "file = open(\"extended_data.obj\", \"rb\")\n",
    "extended_data = pickle.load(file)\n",
    "file.close()"
   ]
  },
  {
   "cell_type": "code",
   "execution_count": 4,
   "id": "5ffa747b-a0ce-43b4-98f4-9bbcb1c26d84",
   "metadata": {},
   "outputs": [],
   "source": [
    "labels = {'0 2':1, '0 3':2, '0 4':3, '0 5':4, '0 6':5, '1 2':6, '1 3':7, '1 4':8, '1 5':9, '1 6':10}"
   ]
  },
  {
   "cell_type": "code",
   "execution_count": 5,
   "id": "e56bc29c-ea0e-42e3-8da0-38943413b473",
   "metadata": {},
   "outputs": [],
   "source": [
    "y = pd.read_csv('../desafio/data/Train.csv')\n",
    "#y['Expected'] = y['Expected'].apply(lambda x: labels[x])\n"
   ]
  },
  {
   "cell_type": "code",
   "execution_count": 6,
   "id": "fb905f44-bebf-4798-9181-065632ab66b3",
   "metadata": {},
   "outputs": [
    {
     "data": {
      "text/html": [
       "<div>\n",
       "<style scoped>\n",
       "    .dataframe tbody tr th:only-of-type {\n",
       "        vertical-align: middle;\n",
       "    }\n",
       "\n",
       "    .dataframe tbody tr th {\n",
       "        vertical-align: top;\n",
       "    }\n",
       "\n",
       "    .dataframe thead th {\n",
       "        text-align: right;\n",
       "    }\n",
       "</style>\n",
       "<table border=\"1\" class=\"dataframe\">\n",
       "  <thead>\n",
       "    <tr style=\"text-align: right;\">\n",
       "      <th></th>\n",
       "      <th>argentina</th>\n",
       "      <th>chile</th>\n",
       "      <th>colombia</th>\n",
       "      <th>peru</th>\n",
       "      <th>venezuela</th>\n",
       "    </tr>\n",
       "  </thead>\n",
       "  <tbody>\n",
       "    <tr>\n",
       "      <th>0</th>\n",
       "      <td>1</td>\n",
       "      <td>0</td>\n",
       "      <td>0</td>\n",
       "      <td>0</td>\n",
       "      <td>0</td>\n",
       "    </tr>\n",
       "    <tr>\n",
       "      <th>1</th>\n",
       "      <td>1</td>\n",
       "      <td>0</td>\n",
       "      <td>0</td>\n",
       "      <td>0</td>\n",
       "      <td>0</td>\n",
       "    </tr>\n",
       "    <tr>\n",
       "      <th>2</th>\n",
       "      <td>1</td>\n",
       "      <td>0</td>\n",
       "      <td>0</td>\n",
       "      <td>0</td>\n",
       "      <td>0</td>\n",
       "    </tr>\n",
       "    <tr>\n",
       "      <th>3</th>\n",
       "      <td>1</td>\n",
       "      <td>0</td>\n",
       "      <td>0</td>\n",
       "      <td>0</td>\n",
       "      <td>0</td>\n",
       "    </tr>\n",
       "    <tr>\n",
       "      <th>4</th>\n",
       "      <td>1</td>\n",
       "      <td>0</td>\n",
       "      <td>0</td>\n",
       "      <td>0</td>\n",
       "      <td>0</td>\n",
       "    </tr>\n",
       "    <tr>\n",
       "      <th>...</th>\n",
       "      <td>...</td>\n",
       "      <td>...</td>\n",
       "      <td>...</td>\n",
       "      <td>...</td>\n",
       "      <td>...</td>\n",
       "    </tr>\n",
       "    <tr>\n",
       "      <th>1390</th>\n",
       "      <td>0</td>\n",
       "      <td>0</td>\n",
       "      <td>0</td>\n",
       "      <td>0</td>\n",
       "      <td>1</td>\n",
       "    </tr>\n",
       "    <tr>\n",
       "      <th>1391</th>\n",
       "      <td>0</td>\n",
       "      <td>0</td>\n",
       "      <td>0</td>\n",
       "      <td>0</td>\n",
       "      <td>1</td>\n",
       "    </tr>\n",
       "    <tr>\n",
       "      <th>1392</th>\n",
       "      <td>0</td>\n",
       "      <td>0</td>\n",
       "      <td>0</td>\n",
       "      <td>0</td>\n",
       "      <td>1</td>\n",
       "    </tr>\n",
       "    <tr>\n",
       "      <th>1393</th>\n",
       "      <td>0</td>\n",
       "      <td>0</td>\n",
       "      <td>0</td>\n",
       "      <td>0</td>\n",
       "      <td>1</td>\n",
       "    </tr>\n",
       "    <tr>\n",
       "      <th>1394</th>\n",
       "      <td>0</td>\n",
       "      <td>0</td>\n",
       "      <td>0</td>\n",
       "      <td>0</td>\n",
       "      <td>1</td>\n",
       "    </tr>\n",
       "  </tbody>\n",
       "</table>\n",
       "<p>1395 rows × 5 columns</p>\n",
       "</div>"
      ],
      "text/plain": [
       "      argentina  chile  colombia  peru  venezuela\n",
       "0             1      0         0     0          0\n",
       "1             1      0         0     0          0\n",
       "2             1      0         0     0          0\n",
       "3             1      0         0     0          0\n",
       "4             1      0         0     0          0\n",
       "...         ...    ...       ...   ...        ...\n",
       "1390          0      0         0     0          1\n",
       "1391          0      0         0     0          1\n",
       "1392          0      0         0     0          1\n",
       "1393          0      0         0     0          1\n",
       "1394          0      0         0     0          1\n",
       "\n",
       "[1395 rows x 5 columns]"
      ]
     },
     "execution_count": 6,
     "metadata": {},
     "output_type": "execute_result"
    }
   ],
   "source": [
    "y[\"argentina\"] = y[\"Expected\"].apply(lambda x : int(int(x[2]) == 2))\n",
    "y[\"chile\"] = y[\"Expected\"].apply(lambda x : int(int(x[2]) == 3))\n",
    "y[\"colombia\"] = y[\"Expected\"].apply(lambda x : int(int(x[2]) == 4))\n",
    "y[\"peru\"] = y[\"Expected\"].apply(lambda x : int(int(x[2]) == 5))\n",
    "y[\"venezuela\"] = y[\"Expected\"].apply(lambda x : int(int(x[2]) == 6))\n",
    "y = y.drop([\"Id\",\"Expected\"],axis=1)\n",
    "y"
   ]
  },
  {
   "cell_type": "code",
   "execution_count": 7,
   "id": "bacc8eb2-cd74-4662-8919-739a7fde21f0",
   "metadata": {},
   "outputs": [],
   "source": [
    "extended_y = y\n",
    "for i in range(5):\n",
    "    extended_y=pd.concat([extended_y, y])\n"
   ]
  },
  {
   "cell_type": "code",
   "execution_count": 8,
   "id": "c6abfa93-7019-4090-8cfc-d69be2de9f54",
   "metadata": {},
   "outputs": [],
   "source": [
    "model = keras.models.Sequential([\n",
    "    keras.layers.Conv2D(32, 3, strides=(8, 8), activation='relu', input_shape = [1025,537,1], padding = \"same\"),\n",
    "    keras.layers.MaxPooling2D(padding = \"same\"),\n",
    "    keras.layers.Conv2D(64, 2, strides=(8, 8), activation='relu', padding = \"same\"),\n",
    "    keras.layers.MaxPooling2D(padding = \"same\"),\n",
    "    keras.layers.Conv2D(128, 2, strides=(8, 8), activation='relu', padding = \"same\"),\n",
    "    keras.layers.MaxPooling2D(padding = \"same\"),\n",
    "    keras.layers.Conv2D(256, 2, strides=(8, 8), activation='relu', padding = \"same\"),\n",
    "    keras.layers.Flatten(),\n",
    "    keras.layers.Dense(256, activation='relu'),\n",
    "    keras.layers.Dense(5, activation ='softmax')\n",
    "])"
   ]
  },
  {
   "cell_type": "code",
   "execution_count": 9,
   "id": "363d6c88-c41e-4170-8a82-4dbaa1cf4c45",
   "metadata": {},
   "outputs": [],
   "source": [
    "model.compile(optimizer=keras.optimizers.Adam(0.001),\n",
    "             loss = 'categorical_crossentropy',\n",
    "             metrics=['accuracy'])"
   ]
  },
  {
   "cell_type": "code",
   "execution_count": 10,
   "id": "462c737a-07ae-4fa2-be6d-3c71764e769d",
   "metadata": {
    "tags": []
   },
   "outputs": [
    {
     "name": "stdout",
     "output_type": "stream",
     "text": [
      "Model: \"sequential\"\n",
      "_________________________________________________________________\n",
      " Layer (type)                Output Shape              Param #   \n",
      "=================================================================\n",
      " conv2d (Conv2D)             (None, 129, 68, 32)       320       \n",
      "                                                                 \n",
      " max_pooling2d (MaxPooling2D  (None, 65, 34, 32)       0         \n",
      " )                                                               \n",
      "                                                                 \n",
      " conv2d_1 (Conv2D)           (None, 9, 5, 64)          8256      \n",
      "                                                                 \n",
      " max_pooling2d_1 (MaxPooling  (None, 5, 3, 64)         0         \n",
      " 2D)                                                             \n",
      "                                                                 \n",
      " conv2d_2 (Conv2D)           (None, 1, 1, 128)         32896     \n",
      "                                                                 \n",
      " max_pooling2d_2 (MaxPooling  (None, 1, 1, 128)        0         \n",
      " 2D)                                                             \n",
      "                                                                 \n",
      " conv2d_3 (Conv2D)           (None, 1, 1, 256)         131328    \n",
      "                                                                 \n",
      " flatten (Flatten)           (None, 256)               0         \n",
      "                                                                 \n",
      " dense (Dense)               (None, 256)               65792     \n",
      "                                                                 \n",
      " dense_1 (Dense)             (None, 5)                 1285      \n",
      "                                                                 \n",
      "=================================================================\n",
      "Total params: 239,877\n",
      "Trainable params: 239,877\n",
      "Non-trainable params: 0\n",
      "_________________________________________________________________\n"
     ]
    }
   ],
   "source": [
    "model.summary()"
   ]
  },
  {
   "cell_type": "code",
   "execution_count": 11,
   "id": "aa477ed1-7fda-4c5d-b496-c7aa12b9be89",
   "metadata": {},
   "outputs": [],
   "source": [
    "epochs = 50\n",
    "callback = keras.callbacks.EarlyStopping(monitor='val_loss',\n",
    "                                            patience=6,\n",
    "                                            restore_best_weights=True)"
   ]
  },
  {
   "cell_type": "code",
   "execution_count": 12,
   "id": "f27042d5-b055-43c3-97ac-88428261b76c",
   "metadata": {},
   "outputs": [
    {
     "name": "stdout",
     "output_type": "stream",
     "text": [
      "Epoch 1/50\n",
      "210/210 [==============================] - 43s 179ms/step - loss: 1.6206 - accuracy: 0.2167 - val_loss: 1.6183 - val_accuracy: 0.1768\n",
      "Epoch 2/50\n",
      "210/210 [==============================] - 35s 165ms/step - loss: 1.5984 - accuracy: 0.2342 - val_loss: 1.5957 - val_accuracy: 0.2210\n",
      "Epoch 3/50\n",
      "210/210 [==============================] - 32s 151ms/step - loss: 1.5663 - accuracy: 0.2714 - val_loss: 1.5764 - val_accuracy: 0.2515\n",
      "Epoch 4/50\n",
      "210/210 [==============================] - 32s 153ms/step - loss: 1.5024 - accuracy: 0.3203 - val_loss: 1.5456 - val_accuracy: 0.2939\n",
      "Epoch 5/50\n",
      "210/210 [==============================] - 35s 166ms/step - loss: 1.3967 - accuracy: 0.3935 - val_loss: 1.4366 - val_accuracy: 0.3674\n",
      "Epoch 6/50\n",
      "210/210 [==============================] - 33s 158ms/step - loss: 1.2795 - accuracy: 0.4539 - val_loss: 1.3212 - val_accuracy: 0.4307\n",
      "Epoch 7/50\n",
      "210/210 [==============================] - 33s 159ms/step - loss: 1.1167 - accuracy: 0.5421 - val_loss: 1.2919 - val_accuracy: 0.4558\n",
      "Epoch 8/50\n",
      "210/210 [==============================] - 32s 155ms/step - loss: 0.9653 - accuracy: 0.6056 - val_loss: 1.2160 - val_accuracy: 0.5090\n",
      "Epoch 9/50\n",
      "210/210 [==============================] - 33s 157ms/step - loss: 0.8286 - accuracy: 0.6641 - val_loss: 1.1761 - val_accuracy: 0.5442\n",
      "Epoch 10/50\n",
      "210/210 [==============================] - 32s 152ms/step - loss: 0.7031 - accuracy: 0.7177 - val_loss: 1.1590 - val_accuracy: 0.5573\n",
      "Epoch 11/50\n",
      "210/210 [==============================] - 35s 167ms/step - loss: 0.5931 - accuracy: 0.7614 - val_loss: 1.2052 - val_accuracy: 0.5932\n",
      "Epoch 12/50\n",
      "210/210 [==============================] - 35s 166ms/step - loss: 0.5330 - accuracy: 0.7861 - val_loss: 1.1600 - val_accuracy: 0.6111\n",
      "Epoch 13/50\n",
      "210/210 [==============================] - 36s 171ms/step - loss: 0.4947 - accuracy: 0.8050 - val_loss: 1.2768 - val_accuracy: 0.5938\n",
      "Epoch 14/50\n",
      "210/210 [==============================] - 35s 169ms/step - loss: 0.4806 - accuracy: 0.8115 - val_loss: 1.1871 - val_accuracy: 0.6278\n",
      "Epoch 15/50\n",
      "210/210 [==============================] - 32s 151ms/step - loss: 0.4489 - accuracy: 0.8199 - val_loss: 1.1777 - val_accuracy: 0.6434\n",
      "Epoch 16/50\n",
      "210/210 [==============================] - 32s 154ms/step - loss: 0.3889 - accuracy: 0.8432 - val_loss: 1.2766 - val_accuracy: 0.6201\n"
     ]
    }
   ],
   "source": [
    "history = model.fit(extended_data,extended_y.values, epochs=epochs, validation_split=0.2,callbacks=callback)"
   ]
  },
  {
   "cell_type": "code",
   "execution_count": 14,
   "id": "ffd0bb83-0733-4afd-ba7d-980e89176d83",
   "metadata": {},
   "outputs": [
    {
     "name": "stderr",
     "output_type": "stream",
     "text": [
      "WARNING:absl:Found untraced functions such as _jit_compiled_convolution_op, _jit_compiled_convolution_op, _jit_compiled_convolution_op, _jit_compiled_convolution_op while saving (showing 4 of 4). These functions will not be directly callable after loading.\n"
     ]
    },
    {
     "name": "stdout",
     "output_type": "stream",
     "text": [
      "INFO:tensorflow:Assets written to: ../Redes/desafio/models/Country1\\assets\n"
     ]
    },
    {
     "name": "stderr",
     "output_type": "stream",
     "text": [
      "INFO:tensorflow:Assets written to: ../Redes/desafio/models/Country1\\assets\n"
     ]
    }
   ],
   "source": [
    "model.save(\"../Redes/desafio/models/Country1\")"
   ]
  },
  {
   "cell_type": "code",
   "execution_count": null,
   "id": "3b2df5ed-68de-4cec-b76d-cc85bb077421",
   "metadata": {},
   "outputs": [],
   "source": []
  }
 ],
 "metadata": {
  "kernelspec": {
   "display_name": "Python 3",
   "language": "python",
   "name": "python3"
  },
  "language_info": {
   "codemirror_mode": {
    "name": "ipython",
    "version": 3
   },
   "file_extension": ".py",
   "mimetype": "text/x-python",
   "name": "python",
   "nbconvert_exporter": "python",
   "pygments_lexer": "ipython3",
   "version": "3.10.4"
  }
 },
 "nbformat": 4,
 "nbformat_minor": 5
}
